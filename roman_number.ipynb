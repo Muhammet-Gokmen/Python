{
  "nbformat": 4,
  "nbformat_minor": 0,
  "metadata": {
    "colab": {
      "name": "roman_number.ipynb",
      "provenance": [],
      "authorship_tag": "ABX9TyMmROE+16vfa49fwi0SE6NC",
      "include_colab_link": true
    },
    "kernelspec": {
      "name": "python3",
      "display_name": "Python 3"
    },
    "language_info": {
      "name": "python"
    }
  },
  "cells": [
    {
      "cell_type": "markdown",
      "metadata": {
        "id": "view-in-github",
        "colab_type": "text"
      },
      "source": [
        "<a href=\"https://colab.research.google.com/github/Muhammet-Gokmen/Python/blob/master/roman_number.ipynb\" target=\"_parent\"><img src=\"https://colab.research.google.com/assets/colab-badge.svg\" alt=\"Open In Colab\"/></a>"
      ]
    },
    {
      "cell_type": "code",
      "execution_count": 3,
      "metadata": {
        "colab": {
          "base_uri": "https://localhost:8080/"
        },
        "id": "iNQXg7Z_qxWl",
        "outputId": "ed932349-466b-410e-cb29-2d6829433c97"
      },
      "outputs": [
        {
          "output_type": "stream",
          "name": "stdout",
          "text": [
            "enter integer number45\n",
            "Roman value is: XLV"
          ]
        }
      ],
      "source": [
        "# Python3 program to convert\n",
        "# integer value to roman values\n",
        "\n",
        "# Function to convert integer to Roman values\n",
        "def printRoman(number):\n",
        "\tnum = [1, 4, 5, 9, 10, 40, 50, 90,\n",
        "\t\t100, 400, 500, 900, 1000]\n",
        "\tsym = [\"I\", \"IV\", \"V\", \"IX\", \"X\", \"XL\",\n",
        "\t\t\"L\", \"XC\", \"C\", \"CD\", \"D\", \"CM\", \"M\"]\n",
        "\ti = 12\n",
        "\t\n",
        "\twhile number:\n",
        "\t\tdiv = number // num[i]\n",
        "\t\tnumber %= num[i]\n",
        "\n",
        "\t\twhile div:\n",
        "\t\t\tprint(sym[i], end = \"\")\n",
        "\t\t\tdiv -= 1\n",
        "\t\ti -= 1\n",
        "\n",
        "# Driver code\n",
        "if __name__ == \"__main__\":\n",
        "\tnumber = int(input(\"enter integer number\"))\n",
        "\tprint(\"Roman value is:\", end = \" \")\n",
        "\tprintRoman(number)\n"
      ]
    },
    {
      "cell_type": "code",
      "source": [
        ""
      ],
      "metadata": {
        "id": "FzGV1M9d1Vq9"
      },
      "execution_count": null,
      "outputs": []
    },
    {
      "cell_type": "code",
      "source": [
        ""
      ],
      "metadata": {
        "id": "3-j34dvw1Vtx"
      },
      "execution_count": null,
      "outputs": []
    },
    {
      "cell_type": "code",
      "source": [
        ""
      ],
      "metadata": {
        "id": "8YAxNIKw1Vwe"
      },
      "execution_count": null,
      "outputs": []
    },
    {
      "cell_type": "code",
      "source": [
        ""
      ],
      "metadata": {
        "id": "Iw6i-eFQ1VzA"
      },
      "execution_count": null,
      "outputs": []
    },
    {
      "cell_type": "code",
      "source": [
        ""
      ],
      "metadata": {
        "id": "u7cu2kvF1V1y"
      },
      "execution_count": null,
      "outputs": []
    }
  ]
}